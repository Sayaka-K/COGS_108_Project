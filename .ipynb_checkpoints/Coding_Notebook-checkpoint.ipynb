{
 "cells": [
  {
   "cell_type": "markdown",
   "metadata": {},
   "source": [
    "# TITLE"
   ]
  },
  {
   "cell_type": "markdown",
   "metadata": {},
   "source": [
    "## IMPORTS\n"
   ]
  },
  {
   "cell_type": "code",
   "execution_count": 1,
   "metadata": {},
   "outputs": [],
   "source": [
    "#there will be more packages added as needed\n",
    "import pandas as pd\n",
    "import numpy as np\n"
   ]
  },
  {
   "cell_type": "code",
   "execution_count": 2,
   "metadata": {},
   "outputs": [],
   "source": [
    "#import csv files\n"
   ]
  },
  {
   "cell_type": "markdown",
   "metadata": {},
   "source": [
    "### PDF WEBSCRAPING\n",
    "\n",
    "link to example pdf:\n",
    "http://cdfdata.fire.ca.gov/pub/cdf/images/incidentstatsevents_272.pdf\n",
    "another link to explore later:\n",
    "https://www.usfa.fema.gov/data/statistics/\n",
    "another link with firestation locations:\n",
    "https://hifld-geoplatform.opendata.arcgis.com/\n"
   ]
  },
  {
   "cell_type": "code",
   "execution_count": null,
   "metadata": {},
   "outputs": [],
   "source": []
  },
  {
   "cell_type": "code",
   "execution_count": null,
   "metadata": {
    "scrolled": false
   },
   "outputs": [],
   "source": []
  },
  {
   "cell_type": "code",
   "execution_count": 1,
   "metadata": {},
   "outputs": [],
   "source": [
    "#template for correct rows, feel free to change it will apply to all \n",
    "#dataframes ran above\n",
    "ROWS = ['INCIDENT #', 'COUNTY/UNIT', 'FIRE_NAME', 'START_DATE', \n",
    "        'CONT_DATE', 'ORIGIN_DPT', 'BURNED_CAL_FIRE', 'BURNED_OTHER',\n",
    "        'BURNED_TOTAL', 'VEG_TYPE', 'CASUE', 'STRUCT_DEST', 'STRUCT_DAM',\n",
    "        'FATALITY_FIRE', 'FATALITY_CIVIL', 'other(drop this)']\n",
    "#template to drop column into row, some columns are actually rows\n",
    "#note code will run error, just comment out to save ROWS\n",
    "#test = df.append(df.columns.to_series(), ignore_index=True)"
   ]
  },
  {
   "cell_type": "markdown",
   "metadata": {},
   "source": []
  },
  {
   "cell_type": "code",
   "execution_count": null,
   "metadata": {
    "scrolled": false
   },
   "outputs": [],
   "source": []
  },
  {
   "cell_type": "code",
   "execution_count": null,
   "metadata": {},
   "outputs": [],
   "source": []
  },
  {
   "cell_type": "code",
   "execution_count": null,
   "metadata": {},
   "outputs": [],
   "source": []
  },
  {
   "cell_type": "code",
   "execution_count": null,
   "metadata": {},
   "outputs": [],
   "source": []
  },
  {
   "cell_type": "code",
   "execution_count": null,
   "metadata": {},
   "outputs": [],
   "source": []
  },
  {
   "cell_type": "code",
   "execution_count": null,
   "metadata": {},
   "outputs": [],
   "source": []
  }
 ],
 "metadata": {
  "kernelspec": {
   "display_name": "Python 3",
   "language": "python",
   "name": "python3"
  },
  "language_info": {
   "codemirror_mode": {
    "name": "ipython",
    "version": 3
   },
   "file_extension": ".py",
   "mimetype": "text/x-python",
   "name": "python",
   "nbconvert_exporter": "python",
   "pygments_lexer": "ipython3",
   "version": "3.7.1"
  }
 },
 "nbformat": 4,
 "nbformat_minor": 2
}
